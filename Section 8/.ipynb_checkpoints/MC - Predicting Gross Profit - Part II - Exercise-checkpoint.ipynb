{
 "cells": [
  {
   "cell_type": "markdown",
   "metadata": {},
   "source": [
    "## Monte Carlo - Predicting Gross Profit - Part II"
   ]
  },
  {
   "cell_type": "markdown",
   "metadata": {},
   "source": [
    "*Suggested Answers follow (usually there are multiple ways to solve a problem in Python).*"
   ]
  },
  {
   "cell_type": "markdown",
   "metadata": {},
   "source": [
    "Proceed from where we left off on the previous exercise."
   ]
  },
  {
   "cell_type": "code",
   "execution_count": 1,
   "metadata": {},
   "outputs": [
    {
     "data": {
      "text/plain": [
       "(-90.15652761638601, 4.4536314394953616)"
      ]
     },
     "execution_count": 1,
     "metadata": {},
     "output_type": "execute_result"
    }
   ],
   "source": [
    "import numpy as np\n",
    "import matplotlib.pyplot as plt\n",
    "\n",
    "rev_m = 200\n",
    "rev_stdev = 10\n",
    "iterations = 256\n",
    "\n",
    "rev = np.random.normal(rev_m, rev_stdev, iterations)\n",
    "COGS = - (rev * np.random.normal(0.4,0.2))\n",
    "\n",
    "COGS.mean(), COGS.std()"
   ]
  },
  {
   "cell_type": "markdown",
   "metadata": {},
   "source": [
    "****"
   ]
  },
  {
   "cell_type": "markdown",
   "metadata": {},
   "source": [
    "Based on the predicted revenue and Cogs values, estimate the expected Gross Profit of your company. "
   ]
  },
  {
   "cell_type": "markdown",
   "metadata": {},
   "source": [
    "*Reminder: Be careful about estimating the gross profit. If you have stored the Cogs value as a negative number, the gross profit will equal revenues plus Cogs. If you have created Cogs as a positive value, then gross profit would be equal to revenues minus Cogs. Either way, you will obtain the same result for gross profit.* "
   ]
  },
  {
   "cell_type": "code",
   "execution_count": 2,
   "metadata": {},
   "outputs": [
    {
     "data": {
      "text/plain": [
       "array([ 97.64831996, 107.86296444, 118.10113614, 105.56077379,\n",
       "       107.32819395, 117.10922734, 113.01274134, 111.54679913,\n",
       "       112.89372367, 111.75227808, 107.06247006, 104.87519977,\n",
       "       117.58880507, 114.31856889, 110.16870416, 116.01884939,\n",
       "       112.30454814, 109.78457322, 106.83878712, 111.21272993,\n",
       "       119.30630169, 118.55344038, 105.82566562, 112.28470068,\n",
       "       111.38657064, 108.11198866, 109.86189266, 108.39119072,\n",
       "       119.39264933, 123.07467498,  98.20431477, 110.70741681,\n",
       "       116.2186779 , 120.47684928, 106.00295952, 116.1906557 ,\n",
       "       107.17054407, 114.8958181 , 111.82186916, 115.76292143,\n",
       "       115.24673436, 110.10067752, 116.87928418, 114.70463906,\n",
       "       103.37272831, 111.4875394 ,  98.7144521 , 107.59288906,\n",
       "       112.20714337, 109.86720525, 109.40110795, 112.54254635,\n",
       "       115.79320341, 116.09586322, 107.75443076, 115.42204339,\n",
       "       108.38826962, 109.1542608 , 112.21151791, 111.8865959 ,\n",
       "       102.09979088,  97.03919417, 114.09656781, 114.11701981,\n",
       "       110.57368119, 112.0741406 ,  96.39651902, 112.99772846,\n",
       "       110.0394728 , 119.73650381, 113.06021664, 109.80860078,\n",
       "       102.81464989, 107.12934382, 112.25036542, 111.2265306 ,\n",
       "       117.83447515, 110.15457325, 114.25239333, 110.35327687,\n",
       "       113.09831459, 109.55337278, 115.77571033, 109.15869355,\n",
       "       107.46837115, 110.80846265, 104.7319393 , 108.82012473,\n",
       "       109.48894827, 114.60977618, 112.70241831, 110.24006453,\n",
       "       113.91702284, 115.21876614, 105.86896628, 105.28810306,\n",
       "       111.94519623, 106.89884352, 110.09682736, 102.8721815 ,\n",
       "       120.03007553,  99.28254178, 115.01326454, 120.70412276,\n",
       "       120.52949909, 115.75526083, 114.27730743, 115.90314297,\n",
       "       109.84412027, 116.59550335, 119.29425883, 115.78613702,\n",
       "       114.88883063, 114.02590159, 116.73714798, 110.47282138,\n",
       "       107.05509598, 108.87441568, 110.57809539, 120.31376748,\n",
       "       111.87090829, 115.57453534, 106.51495141, 109.99481103,\n",
       "       110.53938993, 110.56218332, 110.44888638, 113.35021519,\n",
       "       111.24532036, 108.80157143, 114.33700652, 118.49314344,\n",
       "       111.74303141, 112.71141641, 103.70239603,  99.50653797,\n",
       "       109.66413916, 128.2752585 , 103.54757172, 125.73077883,\n",
       "       109.27792868, 108.74744729, 114.33004214, 110.3514699 ,\n",
       "       116.10511985, 111.67729788, 111.9090549 , 105.25514588,\n",
       "       108.67902931, 114.90004331, 103.17558192, 120.78105084,\n",
       "       112.74237439, 112.87267341, 113.51119043, 124.06331631,\n",
       "       109.72709587,  96.55459159, 115.52640032, 116.95589208,\n",
       "       112.31771319, 110.04561139, 109.93249595, 101.22952394,\n",
       "       107.43769553, 107.12153009, 112.88460513, 117.92082441,\n",
       "       111.31358044, 113.25646921, 111.95681203, 110.58749617,\n",
       "       110.5157864 , 119.97406365, 101.82862811, 117.22461565,\n",
       "       108.46818051, 115.99457391, 113.85504794, 108.26692856,\n",
       "       112.17396461, 111.60886507, 101.67675179, 111.12590473,\n",
       "       104.55817358, 119.71043812, 107.03437012, 114.72822754,\n",
       "       109.65472851, 115.40364613, 116.89013927, 113.45414816,\n",
       "       105.78727378, 107.9204379 , 111.6151313 , 122.04080559,\n",
       "       113.50693204, 115.55098394, 116.8604887 , 119.7890182 ,\n",
       "       115.35025206, 112.81883719, 118.71170666, 117.12958423,\n",
       "       109.48159905, 101.33427027, 106.71039304, 106.16407362,\n",
       "        92.63001358, 118.20869   , 107.95623473, 118.43165061,\n",
       "       114.81858782, 113.70861209, 113.6763003 , 111.65105701,\n",
       "       104.40781143, 117.49711188, 112.99536592, 106.15564255,\n",
       "       102.55792048, 112.29939221,  99.64350515, 112.49738408,\n",
       "       112.7819562 , 108.75753833, 113.67422843, 119.29502064,\n",
       "       111.03528709, 109.18342575, 109.48684025, 107.27629514,\n",
       "       117.10253672, 108.6574806 , 110.6510569 , 111.49529289,\n",
       "       108.64516931, 103.88237773, 111.92100628, 114.30684204,\n",
       "       113.32266511, 110.58075356, 114.67923484, 106.92483396,\n",
       "       110.45685278, 123.66968855, 115.31783643, 118.34533029,\n",
       "       116.65685393, 121.46439147, 111.61382606, 115.65858442,\n",
       "       112.97534452, 119.38834872, 104.70201188, 109.34102161])"
      ]
     },
     "execution_count": 2,
     "metadata": {},
     "output_type": "execute_result"
    }
   ],
   "source": [
    "gross_profit = rev + COGS\n",
    "gross_profit"
   ]
  },
  {
   "cell_type": "markdown",
   "metadata": {},
   "source": [
    "What is the maximum and what is the minimum gross profit value you obtained?"
   ]
  },
  {
   "cell_type": "code",
   "execution_count": 3,
   "metadata": {},
   "outputs": [
    {
     "data": {
      "text/plain": [
       "128.2752584995548"
      ]
     },
     "execution_count": 3,
     "metadata": {},
     "output_type": "execute_result"
    }
   ],
   "source": [
    "max(gross_profit)"
   ]
  },
  {
   "cell_type": "code",
   "execution_count": 4,
   "metadata": {},
   "outputs": [
    {
     "data": {
      "text/plain": [
       "92.63001358466644"
      ]
     },
     "execution_count": 4,
     "metadata": {},
     "output_type": "execute_result"
    }
   ],
   "source": [
    "min(gross_profit)"
   ]
  },
  {
   "cell_type": "markdown",
   "metadata": {},
   "source": [
    "What is its mean and standard deviation?"
   ]
  },
  {
   "cell_type": "code",
   "execution_count": 5,
   "metadata": {},
   "outputs": [
    {
     "data": {
      "text/plain": [
       "111.58241181359134"
      ]
     },
     "execution_count": 5,
     "metadata": {},
     "output_type": "execute_result"
    }
   ],
   "source": [
    "gross_profit.mean()"
   ]
  },
  {
   "cell_type": "code",
   "execution_count": 6,
   "metadata": {},
   "outputs": [
    {
     "data": {
      "text/plain": [
       "5.5120461100967315"
      ]
     },
     "execution_count": 6,
     "metadata": {},
     "output_type": "execute_result"
    }
   ],
   "source": [
    "gross_profit.std()"
   ]
  },
  {
   "cell_type": "markdown",
   "metadata": {},
   "source": [
    "Do you remember what a histogram is? Plot the gross profit data on a histogram. Use 20 bins directly to check the distribution of the data."
   ]
  },
  {
   "cell_type": "code",
   "execution_count": 11,
   "metadata": {},
   "outputs": [
    {
     "data": {
      "image/png": "[encoded data removed]",
      "text/plain": [
       "<Figure size 576x360 with 1 Axes>"
      ]
     },
     "metadata": {
      "needs_background": "light"
     },
     "output_type": "display_data"
    }
   ],
   "source": [
    "plt.figure(figsize = (8,5))\n",
    "plt.hist(gross_profit, bins = 20)\n",
    "plt.show()"
   ]
  },
  {
   "cell_type": "code",
   "execution_count": null,
   "metadata": {},
   "outputs": [],
   "source": []
  }
 ],
 "metadata": {
  "kernelspec": {
   "display_name": "Python 3",
   "language": "python",
   "name": "python3"
  },
  "language_info": {
   "codemirror_mode": {
    "name": "ipython",
    "version": 3
   },
   "file_extension": ".py",
   "mimetype": "text/x-python",
   "name": "python",
   "nbconvert_exporter": "python",
   "pygments_lexer": "ipython3",
   "version": "3.8.5"
  }
 },
 "nbformat": 4,
 "nbformat_minor": 1
}
